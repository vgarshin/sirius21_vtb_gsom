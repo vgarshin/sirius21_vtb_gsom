{
 "cells": [
  {
   "cell_type": "code",
   "execution_count": null,
   "id": "synthetic-blues",
   "metadata": {},
   "outputs": [],
   "source": [
    "import plotly.express as px\n",
    "from jupyter_dash import JupyterDash\n",
    "import dash_core_components as dcc\n",
    "import dash_html_components as html\n",
    "from dash.dependencies import Input, Output"
   ]
  },
  {
   "cell_type": "code",
   "execution_count": null,
   "id": "sustained-essay",
   "metadata": {},
   "outputs": [],
   "source": [
    "JupyterDash.infer_jupyter_proxy_config()"
   ]
  },
  {
   "cell_type": "code",
   "execution_count": null,
   "id": "assisted-slope",
   "metadata": {},
   "outputs": [],
   "source": [
    "MINIMAL = False"
   ]
  },
  {
   "cell_type": "code",
   "execution_count": null,
   "id": "virgin-watershed",
   "metadata": {},
   "outputs": [],
   "source": [
    "app = JupyterDash(__name__)\n",
    "if MINIMAL:\n",
    "    app.layout = html.Div('Minimal')\n",
    "else:\n",
    "    # Load Data\n",
    "    df = px.data.tips()\n",
    "    # Build App\n",
    "    app = JupyterDash(__name__)\n",
    "    external_stylesheets = ['https://codepen.io/chriddyp/pen/bWLwgP.css']\n",
    "    app = JupyterDash(external_stylesheets=external_stylesheets)\n",
    "    app.layout = html.Div([\n",
    "        html.H1('JupyterDash Demo'),\n",
    "        dcc.Graph(id='graph'),\n",
    "        html.Label([\n",
    "            'colorscale',\n",
    "            dcc.Dropdown(\n",
    "                id='colorscale-dropdown', clearable=False,\n",
    "                value='plasma', options=[\n",
    "                    {'label': c, 'value': c}\n",
    "                    for c in px.colors.named_colorscales()\n",
    "                ])\n",
    "        ]),\n",
    "    ])\n",
    "    \n",
    "    # Define callback to update graph\n",
    "    @app.callback(\n",
    "        Output('graph', 'figure'),\n",
    "        [Input('colorscale-dropdown', 'value')]\n",
    "    )\n",
    "    \n",
    "    def update_figure(colorscale):\n",
    "        return px.scatter(\n",
    "            df, x='total_bill', y='tip', color='size',\n",
    "            color_continuous_scale=colorscale,\n",
    "            render_mode='webgl', title='Tips'\n",
    "        )    "
   ]
  },
  {
   "cell_type": "code",
   "execution_count": null,
   "id": "adolescent-handy",
   "metadata": {},
   "outputs": [],
   "source": [
    "app.run_server(mode='external', port=20000)"
   ]
  },
  {
   "cell_type": "code",
   "execution_count": null,
   "id": "classical-respondent",
   "metadata": {},
   "outputs": [],
   "source": []
  }
 ],
 "metadata": {
  "kernelspec": {
   "display_name": "Python 3",
   "language": "python",
   "name": "python3"
  },
  "language_info": {
   "codemirror_mode": {
    "name": "ipython",
    "version": 3
   },
   "file_extension": ".py",
   "mimetype": "text/x-python",
   "name": "python",
   "nbconvert_exporter": "python",
   "pygments_lexer": "ipython3",
   "version": "3.8.6"
  }
 },
 "nbformat": 4,
 "nbformat_minor": 5
}
