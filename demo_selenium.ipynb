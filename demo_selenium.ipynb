{
 "cells": [
  {
   "cell_type": "code",
   "execution_count": null,
   "id": "lonely-nutrition",
   "metadata": {},
   "outputs": [],
   "source": [
    "from selenium import webdriver\n",
    "from selenium.webdriver import FirefoxOptions"
   ]
  },
  {
   "cell_type": "code",
   "execution_count": null,
   "id": "bound-ticket",
   "metadata": {},
   "outputs": [],
   "source": [
    "opts = FirefoxOptions()\n",
    "opts.add_argument('--headless')\n",
    "browser = webdriver.Firefox(options=opts)"
   ]
  },
  {
   "cell_type": "code",
   "execution_count": null,
   "id": "parental-reform",
   "metadata": {},
   "outputs": [],
   "source": [
    "browser.get('http://www.ya.ru')"
   ]
  },
  {
   "cell_type": "code",
   "execution_count": null,
   "id": "global-christianity",
   "metadata": {},
   "outputs": [],
   "source": [
    "print(browser.find_element_by_xpath('html').text)"
   ]
  },
  {
   "cell_type": "code",
   "execution_count": null,
   "id": "surprised-healthcare",
   "metadata": {},
   "outputs": [],
   "source": []
  }
 ],
 "metadata": {
  "kernelspec": {
   "display_name": "Python 3",
   "language": "python",
   "name": "python3"
  },
  "language_info": {
   "codemirror_mode": {
    "name": "ipython",
    "version": 3
   },
   "file_extension": ".py",
   "mimetype": "text/x-python",
   "name": "python",
   "nbconvert_exporter": "python",
   "pygments_lexer": "ipython3",
   "version": "3.8.6"
  }
 },
 "nbformat": 4,
 "nbformat_minor": 5
}
